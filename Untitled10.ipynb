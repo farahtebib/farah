{
  "nbformat": 4,
  "nbformat_minor": 0,
  "metadata": {
    "colab": {
      "name": "Untitled10.ipynb",
      "provenance": []
    },
    "kernelspec": {
      "name": "python3",
      "display_name": "Python 3"
    },
    "language_info": {
      "name": "python"
    }
  },
  "cells": [
    {
      "cell_type": "code",
      "metadata": {
        "colab": {
          "base_uri": "https://localhost:8080/"
        },
        "id": "eB-4soHVrvQq",
        "outputId": "0adb3622-90dc-4be0-b2a5-c4a463aba689"
      },
      "source": [
        "import pandas as pd\n",
        "import numpy as np\n",
        "exam_data = {'name': ['Anastasia', 'Dima', 'Katherine', 'James', 'Emily', 'Michael', 'Matthew', 'Laura', 'Kevin', 'Jonas'],\n",
        "'score': [12.5, 9, 16.5, np.nan, 9, 20, 14.5, np.nan, 8, 19],\n",
        "'attempts': [1, 3, 2, 3, 2, 3, 1, 1, 2, 1],\n",
        "'qualify': ['yes', 'no', 'yes', 'no', 'no', 'yes', 'yes', 'no', 'no', 'yes']}\n",
        "labels = ['a', 'b', 'c', 'd', 'e', 'f', 'g', 'h', 'i', 'j']\n",
        "df=pd.DataFrame(exam_data,columns=['name','score','attempts','qualify'],index=['a', 'b', 'c', 'd', 'e', 'f', 'g', 'h', 'i', 'j'])\n",
        "print(df.head(3))\n",
        "m=df.drop(['d','h'])\n",
        "print(m)\n",
        "new_data={\"name\" : \"Suresh\", \"score\": 15.5, \"attempts\": 1, \"qualify\": \"yes\"}\n",
        "y = 0\n",
        "f = []\n",
        "new_row = {'Sucess' : []}\n",
        "a = pd.DataFrame(new_row)\n",
        "print(df.append(new_data,ignore_index=True))\n",
        "print(df.drop(['attempts'],axis=1))\n",
        "x=np.array(df[\"score\"])\n",
        "x[x<10]=0\n",
        "x[x>=10]=1\n",
        "d=x.tolist()\n",
        "df[\"success\"]=d\n",
        "print(df)\n",
        "df.to_csv(\"my_data\")\n",
        "my_data=pd.read_csv('my_data')"
      ],
      "execution_count": 1,
      "outputs": [
        {
          "output_type": "stream",
          "text": [
            "        name  score  attempts qualify\n",
            "a  Anastasia   12.5         1     yes\n",
            "b       Dima    9.0         3      no\n",
            "c  Katherine   16.5         2     yes\n",
            "        name  score  attempts qualify\n",
            "a  Anastasia   12.5         1     yes\n",
            "b       Dima    9.0         3      no\n",
            "c  Katherine   16.5         2     yes\n",
            "e      Emily    9.0         2      no\n",
            "f    Michael   20.0         3     yes\n",
            "g    Matthew   14.5         1     yes\n",
            "i      Kevin    8.0         2      no\n",
            "j      Jonas   19.0         1     yes\n",
            "         name  score  attempts qualify\n",
            "0   Anastasia   12.5         1     yes\n",
            "1        Dima    9.0         3      no\n",
            "2   Katherine   16.5         2     yes\n",
            "3       James    NaN         3      no\n",
            "4       Emily    9.0         2      no\n",
            "5     Michael   20.0         3     yes\n",
            "6     Matthew   14.5         1     yes\n",
            "7       Laura    NaN         1      no\n",
            "8       Kevin    8.0         2      no\n",
            "9       Jonas   19.0         1     yes\n",
            "10     Suresh   15.5         1     yes\n",
            "        name  score qualify\n",
            "a  Anastasia   12.5     yes\n",
            "b       Dima    9.0      no\n",
            "c  Katherine   16.5     yes\n",
            "d      James    NaN      no\n",
            "e      Emily    9.0      no\n",
            "f    Michael   20.0     yes\n",
            "g    Matthew   14.5     yes\n",
            "h      Laura    NaN      no\n",
            "i      Kevin    8.0      no\n",
            "j      Jonas   19.0     yes\n",
            "        name  score  attempts qualify  success\n",
            "a  Anastasia   12.5         1     yes      1.0\n",
            "b       Dima    9.0         3      no      0.0\n",
            "c  Katherine   16.5         2     yes      1.0\n",
            "d      James    NaN         3      no      NaN\n",
            "e      Emily    9.0         2      no      0.0\n",
            "f    Michael   20.0         3     yes      1.0\n",
            "g    Matthew   14.5         1     yes      1.0\n",
            "h      Laura    NaN         1      no      NaN\n",
            "i      Kevin    8.0         2      no      0.0\n",
            "j      Jonas   19.0         1     yes      1.0\n"
          ],
          "name": "stdout"
        }
      ]
    }
  ]
}