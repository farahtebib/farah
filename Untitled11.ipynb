{
  "nbformat": 4,
  "nbformat_minor": 0,
  "metadata": {
    "colab": {
      "name": "Untitled11.ipynb",
      "provenance": []
    },
    "kernelspec": {
      "name": "python3",
      "display_name": "Python 3"
    },
    "language_info": {
      "name": "python"
    }
  },
  "cells": [
    {
      "cell_type": "code",
      "metadata": {
        "colab": {
          "base_uri": "https://localhost:8080/",
          "height": 122
        },
        "id": "6a6I2b30gR48",
        "outputId": "57219d44-2160-4631-8bd5-682cdefb88f9"
      },
      "source": [
        "f=open(\"python.txt\",'r',encoding = 'utf-8')\n",
        "for line in f:\n",
        "  print(line,end=\"\")\n",
        "f.read()\n",
        "\n"
      ],
      "execution_count": 7,
      "outputs": [
        {
          "output_type": "stream",
          "text": [
            "What is Python language?                                                \n",
            "Python is a widely used high-level, general-purpose, interpreted, dynamic programming language.Its design philosophy emphasizes code readability, and its syntax allows programmers to express concepts in fewer lines of code than possible in \n",
            "languages such as C++ or Java. \n",
            "Python supports multiple programming paradigms, including object-oriented, imperative and functional programming or procedural styles. It features a dynamic type system and automatic memory management and has a large and comprehensive standard library.The best way we learn anything is by practice and exercise questions. We  have started this section for those (beginner to intermediate) who are familiar with Python."
          ],
          "name": "stdout"
        },
        {
          "output_type": "execute_result",
          "data": {
            "application/vnd.google.colaboratory.intrinsic+json": {
              "type": "string"
            },
            "text/plain": [
              "''"
            ]
          },
          "metadata": {
            "tags": []
          },
          "execution_count": 7
        }
      ]
    },
    {
      "cell_type": "code",
      "metadata": {
        "colab": {
          "base_uri": "https://localhost:8080/"
        },
        "id": "dR_wQ4R5oWkz",
        "outputId": "66ab6686-e75e-460a-8c33-1cd7bfeeb335"
      },
      "source": [
        "f=open(\"python.txt\",'r',encoding = 'utf-8')\n",
        "n=int(input())\n",
        "for i in range(1,n+1):\n",
        "  print(f.readline())\n",
        "f.close()"
      ],
      "execution_count": 8,
      "outputs": [
        {
          "output_type": "stream",
          "text": [
            "2\n",
            "What is Python language?                                                \n",
            "\n",
            "Python is a widely used high-level, general-purpose, interpreted, dynamic programming language.Its design philosophy emphasizes code readability, and its syntax allows programmers to express concepts in fewer lines of code than possible in \n",
            "\n"
          ],
          "name": "stdout"
        }
      ]
    },
    {
      "cell_type": "code",
      "metadata": {
        "id": "Jp6qg5YDnUn0",
        "colab": {
          "base_uri": "https://localhost:8080/"
        },
        "outputId": "8714a3f5-3ad1-40b7-9940-be2a5a01a9d0"
      },
      "source": [
        "f = open(\"python.txt\",'r',encoding = 'utf-8')\n",
        "n=int(input())\n",
        "lines_count=len(f.readlines())\n",
        "f.close()\n",
        "f = open(\"python.txt\",'r',encoding = 'utf-8')\n",
        "for i in range(1,lines_count+1):\n",
        "  if i>=lines_count-n+1:\n",
        "    print(f.readline())\n",
        "  else:\n",
        "    f.readline()\n",
        "f.close()\n"
      ],
      "execution_count": 5,
      "outputs": [
        {
          "output_type": "stream",
          "text": [
            "1\n",
            "Python supports multiple programming paradigms, including object-oriented, imperative and functional programming or procedural styles. It features a dynamic type system and automatic memory management and has a large and comprehensive standard library.The best way we learn anything is by practice and exercise questions. We  have started this section for those (beginner to intermediate) who are familiar with Python.\n"
          ],
          "name": "stdout"
        }
      ]
    },
    {
      "cell_type": "code",
      "metadata": {
        "colab": {
          "base_uri": "https://localhost:8080/"
        },
        "id": "A6Skp9U-4LHA",
        "outputId": "e5ad350f-de2b-4b24-f25c-e9c5d7164eff"
      },
      "source": [
        "f = open(\"python.txt\",'r', encoding = 'utf-8')\n",
        "number_of_words=0\n",
        "for line in f:\n",
        "  word_list = line.split()\n",
        "  number_of_words = number_of_words+len(word_list)\n",
        "  \n",
        "print(number_of_words)\n"
      ],
      "execution_count": 15,
      "outputs": [
        {
          "output_type": "stream",
          "text": [
            "100\n"
          ],
          "name": "stdout"
        }
      ]
    }
  ]
}