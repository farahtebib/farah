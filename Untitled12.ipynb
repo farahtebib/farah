{
  "nbformat": 4,
  "nbformat_minor": 0,
  "metadata": {
    "colab": {
      "name": "Untitled12.ipynb",
      "provenance": []
    },
    "kernelspec": {
      "name": "python3",
      "display_name": "Python 3"
    },
    "language_info": {
      "name": "python"
    }
  },
  "cells": [
    {
      "cell_type": "code",
      "metadata": {
        "colab": {
          "base_uri": "https://localhost:8080/"
        },
        "id": "wVeEIT4fpHOl",
        "outputId": "73d8b097-b7d6-4f06-b374-7480f7415bd7"
      },
      "source": [
        "def binary_search(item_list,item):\n",
        "\tfirst = 0\n",
        "\tlast = len(item_list)-1\n",
        "\tfound = False\n",
        "\twhile( first<=last and not found):\n",
        "\t\tmid = (first + last)//2\n",
        "\t\tif item_list[mid] == item :\n",
        "\t\t\tfound = True\n",
        "\t\telse:\n",
        "\t\t\tif item < item_list[mid]:\n",
        "\t\t\t\tlast = mid - 1\n",
        "\t\t\telse:\n",
        "\t\t\t\tfirst = mid + 1\t\n",
        "\treturn found\n",
        "\t\n",
        "print(binary_search([1,2,3,5,8], 6))\n",
        "print(binary_search([1,2,3,5,8], 5))"
      ],
      "execution_count": 12,
      "outputs": [
        {
          "output_type": "stream",
          "text": [
            "False\n",
            "True\n"
          ],
          "name": "stdout"
        }
      ]
    },
    {
      "cell_type": "code",
      "metadata": {
        "colab": {
          "base_uri": "https://localhost:8080/"
        },
        "id": "zryNv1hMsTQr",
        "outputId": "c6822ab7-a234-49c5-d9c8-21c1110668d4"
      },
      "source": [
        "a=int(input());b=int(input())\n",
        "def power(a,b):\n",
        "  if a==0:\n",
        "    return 0\n",
        "  elif b==0:\n",
        "    return 1\n",
        "  else:\n",
        "    return a*power(a,b-1)\n",
        "print(power(a,b))"
      ],
      "execution_count": 9,
      "outputs": [
        {
          "output_type": "stream",
          "text": [
            "2\n",
            "5\n",
            "32\n"
          ],
          "name": "stdout"
        }
      ]
    },
    {
      "cell_type": "code",
      "metadata": {
        "colab": {
          "base_uri": "https://localhost:8080/"
        },
        "id": "M0GCLpI0sqRs",
        "outputId": "a4487a5d-ea09-45fd-c2f0-99b685dae28a"
      },
      "source": [
        "mylist=[58,47,33,12,14,2,5,9,44,20]\n",
        "def bubblesort(mylist):\n",
        "  for nb in range(len(mylist)-1,0,-1):\n",
        "    for i in range(nb):\n",
        "      if mylist[i]>mylist[i+1]:\n",
        "        temp = mylist[i]                 \n",
        "        mylist[i] = mylist[i+1]                 \n",
        "        mylist[i+1] = temp  \n",
        "bubblesort(mylist) \n",
        "print(mylist)\n"
      ],
      "execution_count": 8,
      "outputs": [
        {
          "output_type": "stream",
          "text": [
            "[2, 5, 9, 12, 14, 20, 33, 44, 47, 58]\n"
          ],
          "name": "stdout"
        }
      ]
    },
    {
      "cell_type": "code",
      "metadata": {
        "colab": {
          "base_uri": "https://localhost:8080/"
        },
        "id": "pHOVhHtdssrt",
        "outputId": "47d1a109-4355-4757-905f-61139a63f4c1"
      },
      "source": [
        "def mergeSort(mylist):\n",
        "    if len(mylist) > 1:\n",
        "        mid = len(mylist) // 2\n",
        "        left = mylist[:mid]\n",
        "        right = mylist[mid:]\n",
        "\n",
        "        mergeSort(left)\n",
        "        mergeSort(right)\n",
        "\n",
        "        \n",
        "        i = 0\n",
        "        j = 0\n",
        "        \n",
        "        \n",
        "        k = 0\n",
        "        \n",
        "        while i < len(left) and j < len(right):\n",
        "            if left[i] < right[j]:\n",
        "            \n",
        "              mylist[k] = left[i]\n",
        "             \n",
        "              i += 1\n",
        "            else:\n",
        "                mylist[k] = right[j]\n",
        "                j += 1\n",
        "         \n",
        "            k += 1\n",
        "\n",
        "        \n",
        "        while i < len(left):\n",
        "            mylist[k] = left[i]\n",
        "            i += 1\n",
        "            k += 1\n",
        "\n",
        "        while j < len(right):\n",
        "            mylist[k]=right[j]\n",
        "            j += 1\n",
        "            k += 1\n",
        "\n",
        "mylist = [44,5,21,14,11,3,0,7,88,54,95]\n",
        "mergeSort(mylist)\n",
        "print(mylist)"
      ],
      "execution_count": 7,
      "outputs": [
        {
          "output_type": "stream",
          "text": [
            "[0, 3, 5, 7, 11, 14, 21, 44, 54, 88, 95]\n"
          ],
          "name": "stdout"
        }
      ]
    },
    {
      "cell_type": "code",
      "metadata": {
        "colab": {
          "base_uri": "https://localhost:8080/"
        },
        "id": "8hGPPAVGsy2c",
        "outputId": "6eaa15f9-35f1-48ca-ee2b-b48ee75bff47"
      },
      "source": [
        "def quickSort(data_list):\n",
        "   quickSortHlp(data_list,0,len(data_list)-1)\n",
        "\n",
        "def quickSortHlp(data_list,first,last):\n",
        "   if first < last:\n",
        "\n",
        "       splitpoint = partition(data_list,first,last)\n",
        "\n",
        "       quickSortHlp(data_list,first,splitpoint-1)\n",
        "       quickSortHlp(data_list,splitpoint+1,last)\n",
        "\n",
        "\n",
        "def partition(data_list,first,last):\n",
        "   pivotvalue = data_list[first]\n",
        "\n",
        "   leftmark = first+1\n",
        "   rightmark = last\n",
        "\n",
        "   done = False\n",
        "   while not done:\n",
        "\n",
        "       while leftmark <= rightmark and data_list[leftmark] <= pivotvalue:\n",
        "           leftmark = leftmark + 1\n",
        "\n",
        "       while data_list[rightmark] >= pivotvalue and rightmark >= leftmark:\n",
        "           rightmark = rightmark -1\n",
        "\n",
        "       if rightmark < leftmark:\n",
        "           done = True\n",
        "       else:\n",
        "           temp = data_list[leftmark]\n",
        "           data_list[leftmark] = data_list[rightmark]\n",
        "           data_list[rightmark] = temp\n",
        "\n",
        "   temp = data_list[first]\n",
        "   data_list[first] = data_list[rightmark]\n",
        "   data_list[rightmark] = temp\n",
        "\n",
        "\n",
        "   return rightmark\n",
        "\n",
        "data_list = [12,54,93,17,2,31,445,55,120]\n",
        "quickSort(data_list)\n",
        "print(data_list)"
      ],
      "execution_count": 13,
      "outputs": [
        {
          "output_type": "stream",
          "text": [
            "[2, 12, 17, 31, 54, 55, 93, 120, 445]\n"
          ],
          "name": "stdout"
        }
      ]
    }
  ]
}