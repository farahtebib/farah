{
  "nbformat": 4,
  "nbformat_minor": 0,
  "metadata": {
    "colab": {
      "name": "Untitled9.ipynb",
      "provenance": []
    },
    "kernelspec": {
      "name": "python3",
      "display_name": "Python 3"
    },
    "language_info": {
      "name": "python"
    }
  },
  "cells": [
    {
      "cell_type": "code",
      "metadata": {
        "colab": {
          "base_uri": "https://localhost:8080/"
        },
        "id": "445IG4ezKx3O",
        "outputId": "604976d3-ff60-450f-f491-9263816bc43a"
      },
      "source": [
        "import numpy as np\n",
        "a=np.array([1,2,3]).tolist()\n",
        "print(a)"
      ],
      "execution_count": 1,
      "outputs": [
        {
          "output_type": "stream",
          "text": [
            "[1, 2, 3]\n"
          ],
          "name": "stdout"
        }
      ]
    },
    {
      "cell_type": "code",
      "metadata": {
        "colab": {
          "base_uri": "https://localhost:8080/"
        },
        "id": "DSWHCW2_KCAM",
        "outputId": "8cc5bd41-c9e0-49a8-c22c-967ce3f72466"
      },
      "source": [
        "import numpy as np\n",
        "k =0\n",
        "array = np.array([[1,8],[0,4]])\n",
        "k=np.trace(array)\n",
        "print(k)"
      ],
      "execution_count": 2,
      "outputs": [
        {
          "output_type": "stream",
          "text": [
            "5\n"
          ],
          "name": "stdout"
        }
      ]
    },
    {
      "cell_type": "code",
      "metadata": {
        "colab": {
          "base_uri": "https://localhost:8080/"
        },
        "id": "-2ydz0n1L9xs",
        "outputId": "aa3db287-dd54-4d32-f7f0-981fff3d0a19"
      },
      "source": [
        "import numpy as np\n",
        "x = np.array([[0, 5, 15], [20, 30, 40]])\n",
        "print(x)\n",
        "print(\"Values bigger than 10 =\", x[x>10])"
      ],
      "execution_count": 3,
      "outputs": [
        {
          "output_type": "stream",
          "text": [
            "[[ 0  5 15]\n",
            " [20 30 40]]\n",
            "Values bigger than 10 = [15 20 30 40]\n"
          ],
          "name": "stdout"
        }
      ]
    },
    {
      "cell_type": "code",
      "metadata": {
        "colab": {
          "base_uri": "https://localhost:8080/"
        },
        "id": "fKxgBa1YNGNR",
        "outputId": "2bdd9fe1-cac4-497b-98cd-fcf22e5f86f7"
      },
      "source": [
        "import numpy as np\n",
        "a = np.array([8,4,0])\n",
        "b = np.array([7,9,6])\n",
        "c = np.add(a,b)\n",
        "print(c)"
      ],
      "execution_count": 4,
      "outputs": [
        {
          "output_type": "stream",
          "text": [
            "[15 13  6]\n"
          ],
          "name": "stdout"
        }
      ]
    },
    {
      "cell_type": "code",
      "metadata": {
        "colab": {
          "base_uri": "https://localhost:8080/"
        },
        "id": "hKFMZVR9NxaX",
        "outputId": "1ac32268-3f9b-4307-9a23-f65439f03b08"
      },
      "source": [
        "import numpy as np\n",
        "from statistics import mean\n",
        "a=np.arange(8).reshape(4,2)\n",
        "print(a.mean(a[0,1]))"
      ],
      "execution_count": 5,
      "outputs": [
        {
          "output_type": "stream",
          "text": [
            "[0.5 2.5 4.5 6.5]\n"
          ],
          "name": "stdout"
        }
      ]
    }
  ]
}