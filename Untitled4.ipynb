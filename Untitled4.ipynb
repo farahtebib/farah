{
  "nbformat": 4,
  "nbformat_minor": 0,
  "metadata": {
    "colab": {
      "name": "Untitled4.ipynb",
      "provenance": [],
      "collapsed_sections": []
    },
    "kernelspec": {
      "name": "python3",
      "display_name": "Python 3"
    },
    "language_info": {
      "name": "python"
    }
  },
  "cells": [
    {
      "cell_type": "code",
      "metadata": {
        "id": "fmOtLDGINBtO"
      },
      "source": [
        "s=1\n",
        "n=int(input(\"number of items\"))\n",
        "my_list =[]\n",
        "for i in range(0,n):\n",
        "    my_list.append(int(input(\"give me a number\")))\n",
        "print(my_list)\n",
        "for i in my_list:\n",
        "  s=s*i\n",
        "print(s)\n"
      ],
      "execution_count": null,
      "outputs": []
    },
    {
      "cell_type": "code",
      "metadata": {
        "id": "prBVi-4lhIV_",
        "colab": {
          "base_uri": "https://localhost:8080/"
        },
        "outputId": "dbbb04a0-613b-4f42-c321-0d31dce1c1f4"
      },
      "source": [
        "l = [(2, 5), (1, 2), (4, 4), (2, 3), (2, 1)]\n",
        "def good(x):\n",
        "   return x[1]\n",
        "l.sort(key=good)\n",
        "print(l)"
      ],
      "execution_count": 14,
      "outputs": [
        {
          "output_type": "stream",
          "text": [
            "[(2, 1), (1, 2), (2, 3), (4, 4), (2, 5)]\n"
          ],
          "name": "stdout"
        }
      ]
    },
    {
      "cell_type": "code",
      "metadata": {
        "id": "HiwxWTDvSq9-"
      },
      "source": [
        "d1 = {'a': 100, 'b': 200, 'c':300}\n",
        "d2 = {'a': 300, 'b': 200, 'd':400}\n",
        "d3 = {}\n",
        "d3=d1\n",
        "for i in d2.keys():\n",
        "  if i in d3.keys():\n",
        "    d3[i]=d3[i]+d2[i]\n",
        "  else:\n",
        "    d3[i]=d2[i]\n",
        "print(d3)"
      ],
      "execution_count": null,
      "outputs": []
    },
    {
      "cell_type": "code",
      "metadata": {
        "id": "81IXVJ33UoEO"
      },
      "source": [
        "n=int(input(\"choose a number\"))\n",
        "mydict={}\n",
        "for i in range(1,n+1):\n",
        "  mydict[i]=i*i\n",
        "print(mydict)"
      ],
      "execution_count": null,
      "outputs": []
    },
    {
      "cell_type": "code",
      "metadata": {
        "id": "VKeAokGfZVUm"
      },
      "source": [
        "f=[('item1', '12.20'), ('item2', '15.10'), ('item3', '24.5')]\n",
        "def mylist(x):\n",
        "  return x[1]\n",
        "f.sort(key=mylist,reverse=True)\n",
        "print(f)\n"
      ],
      "execution_count": null,
      "outputs": []
    }
  ]
}