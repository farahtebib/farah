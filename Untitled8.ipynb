{
  "nbformat": 4,
  "nbformat_minor": 0,
  "metadata": {
    "colab": {
      "name": "Untitled8.ipynb",
      "provenance": []
    },
    "kernelspec": {
      "name": "python3",
      "display_name": "Python 3"
    },
    "language_info": {
      "name": "python"
    }
  },
  "cells": [
    {
      "cell_type": "code",
      "metadata": {
        "colab": {
          "base_uri": "https://localhost:8080/"
        },
        "id": "Nhxl-txBkg3h",
        "outputId": "9a7d8b2f-c2d4-4cce-ce75-60a49740f052"
      },
      "source": [
        "class Point3D(object):\n",
        " def __init__(self,x,y,z):\n",
        "   self.x=x\n",
        "   self.y=y\n",
        "   self.z=z\n",
        "\n",
        "mypoint=Point3D(1,2,3)\n",
        "print(\"x=\",mypoint.x)\n",
        "print(\"y=\",mypoint.y)\n",
        "print(\"z=\",mypoint.z)"
      ],
      "execution_count": 2,
      "outputs": [
        {
          "output_type": "stream",
          "text": [
            "x= 1\n",
            "y= 2\n",
            "z= 3\n"
          ],
          "name": "stdout"
        }
      ]
    },
    {
      "cell_type": "code",
      "metadata": {
        "colab": {
          "base_uri": "https://localhost:8080/"
        },
        "id": "GinPgUW3nY2k",
        "outputId": "2977af07-d997-4ec4-831d-5836400d1f1c"
      },
      "source": [
        "class Rectangle(object):\n",
        " def __init__(self,width,length):\n",
        "   self.width=width\n",
        "   self.length=length\n",
        " def rectangle_area(self) :\n",
        "      return self.length*self.width\n",
        " def rectangle_perimeter(self) :\n",
        "      return 2*(self.length+self.width)\n",
        "\n",
        "my_rectangle=Rectangle(3,4)\n",
        "print(\"the area is:\",my_rectangle.rectangle_area())\n",
        "print(\"the perimeter is:\",my_rectangle.rectangle_perimeter())"
      ],
      "execution_count": 4,
      "outputs": [
        {
          "output_type": "stream",
          "text": [
            "the area is: 12\n",
            "the perimeter is: 14\n"
          ],
          "name": "stdout"
        }
      ]
    },
    {
      "cell_type": "code",
      "metadata": {
        "id": "pWcuyoWOoxXX"
      },
      "source": [
        "import math\n",
        "class Circle(object):\n",
        "  def __init__(self,radius,x,y):\n",
        "    self.radius=radius\n",
        "    self.x=x\n",
        "    self.y=y\n",
        "  def circle_area(self):\n",
        "    return math.pi*(self.radius**2)\n",
        "  def circle_perimeter(self):\n",
        "    return 2*math.pi*self.radius\n",
        "  def isinside(self,a,b):\n",
        "    if (a-self.x)**2+(b-self.y)**2==self.radius**2:\n",
        "      print(\"le point appartient au cercle\")\n",
        "    else:\n",
        "      print(\"le point n'appartient pas au cercle\")\n",
        "r=int(input(\"the radius\"))\n",
        "my_circle=Circle(r,3,5)\n",
        "a=int(input(\"abcisse\"))\n",
        "b=int(input(\"ordonnee\"))\n",
        "print(my_circle.circle_area())\n",
        "print(my_circle.circle_perimeter())\n",
        "my_circle.isinside(a,b)"
      ],
      "execution_count": null,
      "outputs": []
    },
    {
      "cell_type": "code",
      "metadata": {
        "id": "xf0jXC_g7dyj"
      },
      "source": [
        "class Bank:\n",
        "    def __init__(self):\n",
        "       self.balance=0\n",
        "\n",
        "    def deposit(self):\n",
        "       amount=float(input(\"Enter amount to be deposited: \"))\n",
        "       self.balance +- amount\n",
        "       print(\"Amount Desposited: \",amount)\n",
        "    def withdraw(self):\n",
        "       amount = float(input(\"Enter amount to withdraw: \"))\n",
        "       if self.balance>=amount:\n",
        "           self.balance-=Amount\n",
        "           print(\"You withdraw: \",amount)\n",
        "       else:\n",
        "           print(\"Insufficient balance\")\n",
        "    def display(self):\n",
        "       print(\"Net Available Balance=\",self.balance)\n",
        "\n",
        "    \n",
        "m = Bank()\n",
        "m.deposit()\n",
        "m.withdraw()\n",
        "m.display()"
      ],
      "execution_count": null,
      "outputs": []
    },
    {
      "cell_type": "code",
      "metadata": {
        "id": "TaESrOqEsRhQ"
      },
      "source": [
        ""
      ],
      "execution_count": null,
      "outputs": []
    }
  ]
}