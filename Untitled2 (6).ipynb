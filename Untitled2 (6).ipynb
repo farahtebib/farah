{
  "nbformat": 4,
  "nbformat_minor": 0,
  "metadata": {
    "colab": {
      "name": "Untitled2.ipynb",
      "provenance": []
    },
    "kernelspec": {
      "name": "python3",
      "display_name": "Python 3"
    },
    "language_info": {
      "name": "python"
    }
  },
  "cells": [
    {
      "cell_type": "code",
      "metadata": {
        "id": "ZwcTE-58jsQv"
      },
      "source": [
        "a=input(\"your first name\")\n",
        "b=input(\"your last name\")\n",
        "c=\" \"\n",
        "print(b+c+a)"
      ],
      "execution_count": null,
      "outputs": []
    },
    {
      "cell_type": "code",
      "metadata": {
        "id": "Y2BCzl9pmj9Y"
      },
      "source": [
        "a=int(input(\"give me an integer\"))\n",
        "\n",
        "x=str(a)\n",
        "y=x+x\n",
        "z=x+x+x\n",
        "print(int(x)+int(y)+int(z))\n",
        "\n"
      ],
      "execution_count": null,
      "outputs": []
    },
    {
      "cell_type": "code",
      "metadata": {
        "id": "YO_eCdl2UkfL"
      },
      "source": [
        "a=float(input(\"give me a number\"))\n",
        "if a%2==0:\n",
        "    print(a,\"is an even number\")\n",
        "else: print(a,\"is an odd number\")"
      ],
      "execution_count": null,
      "outputs": []
    },
    {
      "cell_type": "code",
      "metadata": {
        "id": "elTn0O-lbZ00"
      },
      "source": [
        "for i in range (2000,3210): \n",
        "      while (i%5!=0) and (i%7==0):\n",
        "        i=i+1\n",
        "        print(i)"
      ],
      "execution_count": null,
      "outputs": []
    },
    {
      "cell_type": "code",
      "metadata": {
        "id": "DJGBMIULLsAq"
      },
      "source": [
        "num=int(input(\"enter a number:\"))\n",
        "factorial=1\n",
        "for i in range (1,num+1):\n",
        "    factorial=factorial*i\n",
        "print(\"the factorial of\",factorial)"
      ],
      "execution_count": null,
      "outputs": []
    },
    {
      "cell_type": "code",
      "metadata": {
        "id": "9knwr7VhNkfF"
      },
      "source": [
        "str=input(\"give me a string\")\n",
        "removed=\"\"\n",
        "for i in range(len(str)):\n",
        "  if i%2==0:\n",
        "   removed=removed+str[i]\n",
        "print(removed)"
      ],
      "execution_count": null,
      "outputs": []
    },
    {
      "cell_type": "code",
      "metadata": {
        "id": "BETiDw_jQfRc"
      },
      "source": [
        "p=float(input(\"give me the price\"))\n",
        "if p>=500:\n",
        " b=p/2\n",
        " print(b)\n",
        "elif 200<=p:\n",
        " b=p*0.7\n",
        " print(b)\n",
        "else :\n",
        "  b=p*0.9\n",
        "  print(b)"
      ],
      "execution_count": null,
      "outputs": []
    }
  ]
}