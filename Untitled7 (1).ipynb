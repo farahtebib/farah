{
  "nbformat": 4,
  "nbformat_minor": 0,
  "metadata": {
    "colab": {
      "name": "Untitled7.ipynb",
      "provenance": []
    },
    "kernelspec": {
      "name": "python3",
      "display_name": "Python 3"
    },
    "language_info": {
      "name": "python"
    }
  },
  "cells": [
    {
      "cell_type": "code",
      "metadata": {
        "colab": {
          "base_uri": "https://localhost:8080/"
        },
        "id": "noloc2C417uu",
        "outputId": "5eab274a-f5c5-4bfc-aae0-77d4e7b91bdc"
      },
      "source": [
        "def mylist(a,b,c):\n",
        "  if a>b and a>c:\n",
        "    return(a)\n",
        "  elif b>c:\n",
        "    return (b)\n",
        "  else:\n",
        "      return(c)\n",
        "mylist(20,35,19)"
      ],
      "execution_count": 4,
      "outputs": [
        {
          "output_type": "execute_result",
          "data": {
            "text/plain": [
              "35"
            ]
          },
          "metadata": {
            "tags": []
          },
          "execution_count": 4
        }
      ]
    },
    {
      "cell_type": "code",
      "metadata": {
        "colab": {
          "base_uri": "https://localhost:8080/"
        },
        "id": "u9U0diaT3KyR",
        "outputId": "cf201fd5-8fcc-4c73-d785-011be4e6a8c1"
      },
      "source": [
        "def test(a,b):\n",
        "  return a+b,a-b\n",
        "x=test(40,10)\n",
        "print(x)"
      ],
      "execution_count": 6,
      "outputs": [
        {
          "output_type": "stream",
          "text": [
            "(50, 30)\n"
          ],
          "name": "stdout"
        }
      ]
    },
    {
      "cell_type": "code",
      "metadata": {
        "colab": {
          "base_uri": "https://localhost:8080/"
        },
        "id": "p8Di9YIN4Szy",
        "outputId": "e147f34d-6afc-408b-adc7-d4ac8cc52bcb"
      },
      "source": [
        "def addint(myint):\n",
        "  s=0\n",
        "  for i in myint:\n",
        "    s=s+1\n",
        "    return s\n",
        "def multiplyint(myint):\n",
        "  s=1\n",
        "  for i in myint:\n",
        "    s=s*i\n",
        "  return s\n",
        "myint=[1,2,3,4]\n",
        "print(myint)\n",
        "j=0\n",
        "evenint=[]\n",
        "oddint=[]\n",
        "for i in myint:\n",
        "  if j%2==0:\n",
        "   evenint.append(i)\n",
        "  else:\n",
        "   oddint.append(i)\n",
        "  j=j+1\n",
        "print(evenint)\n",
        "print(oddint)\n",
        "print(addint(evenint))\n",
        "print(multiplyint(oddint))"
      ],
      "execution_count": 70,
      "outputs": [
        {
          "output_type": "stream",
          "text": [
            "[1, 2, 3, 4]\n",
            "[1, 3]\n",
            "[2, 4]\n",
            "1\n",
            "8\n"
          ],
          "name": "stdout"
        }
      ]
    },
    {
      "cell_type": "code",
      "metadata": {
        "colab": {
          "base_uri": "https://localhost:8080/"
        },
        "id": "A53DNXRBHNSw",
        "outputId": "732ffd6c-54f0-4557-e82f-6dbdb8901061"
      },
      "source": [
        "words=\"green-red-yellow-black-white\"\n",
        "wordslist=words.split(\"-\")\n",
        "wordslist.sort()\n",
        "s=\"\"\n",
        "hythen=\"\"\n",
        "for word in wordslist:\n",
        "  s=s+hythen+word\n",
        "  hythen=\"-\"\n",
        "print(s)"
      ],
      "execution_count": 69,
      "outputs": [
        {
          "output_type": "stream",
          "text": [
            "black-green-red-white-yellow\n"
          ],
          "name": "stdout"
        }
      ]
    },
    {
      "cell_type": "code",
      "metadata": {
        "colab": {
          "base_uri": "https://localhost:8080/"
        },
        "id": "E1aRAG6xMODV",
        "outputId": "2a48dc5a-088c-4f7e-f850-0fee6315ba1b"
      },
      "source": [
        "def multi_calculator(numbers):\n",
        "  import math\n",
        "  comma=\"\"\n",
        "  s=\"\"\n",
        "  numbers_list=numbers.split(\",\")\n",
        "  c=50\n",
        "  h=30\n",
        "  for number in numbers_list:\n",
        "    d=int(number)\n",
        "    q=math.trunc(math.sqrt(2*c*d/h))\n",
        "    s=s+comma+str(q)\n",
        "    comma=\",\"\n",
        "  return s\n",
        "print(multi_calculator(\"100,150,180\"))"
      ],
      "execution_count": 77,
      "outputs": [
        {
          "output_type": "stream",
          "text": [
            "18,22,24\n"
          ],
          "name": "stdout"
        }
      ]
    }
  ]
}